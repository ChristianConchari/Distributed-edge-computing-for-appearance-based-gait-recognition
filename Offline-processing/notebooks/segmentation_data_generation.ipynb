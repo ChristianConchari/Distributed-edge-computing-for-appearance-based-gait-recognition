{
 "cells": [
  {
   "cell_type": "markdown",
   "metadata": {},
   "source": [
    "# Data generation for segmentation model training"
   ]
  },
  {
   "cell_type": "markdown",
   "metadata": {},
   "source": [
    "## Importing libraries"
   ]
  },
  {
   "cell_type": "code",
   "execution_count": 1,
   "metadata": {},
   "outputs": [],
   "source": [
    "%load_ext autoreload\n",
    "%autoreload 2\n",
    "\n",
    "import sys\n",
    "sys.path.insert(0, '../')  # This adds the parent directory to the path"
   ]
  },
  {
   "cell_type": "markdown",
   "metadata": {},
   "source": [
    "## Background substraction"
   ]
  },
  {
   "cell_type": "code",
   "execution_count": 6,
   "metadata": {},
   "outputs": [
    {
     "name": "stdout",
     "output_type": "stream",
     "text": [
      "PROCESSING VIEW: 060\n",
      "Processing subject: 000 view: 060...\n",
      "Processing subject: 001 view: 060...\n",
      "Processing subject: 002 view: 060...\n",
      "Processing subject: 003 view: 060...\n",
      "Processing subject: 004 view: 060...\n",
      "Processing subject: 005 view: 060...\n",
      "Processing subject: 006 view: 060...\n",
      "Processing subject: 007 view: 060...\n",
      "Processing subject: 008 view: 060...\n",
      "Processing subject: 009 view: 060...\n",
      "Processing subject: 010 view: 060...\n",
      "Processing subject: 011 view: 060...\n",
      "Processing subject: 012 view: 060...\n",
      "Processing subject: 013 view: 060...\n",
      "Processing subject: 014 view: 060...\n",
      "Processing subject: 015 view: 060...\n",
      "Processing subject: 016 view: 060...\n",
      "PROCESSING VIEW: 075\n",
      "Processing subject: 000 view: 075...\n",
      "Processing subject: 001 view: 075...\n",
      "Processing subject: 002 view: 075...\n",
      "Processing subject: 003 view: 075...\n",
      "Processing subject: 004 view: 075...\n",
      "Processing subject: 005 view: 075...\n",
      "Processing subject: 006 view: 075...\n",
      "Processing subject: 007 view: 075...\n",
      "Processing subject: 008 view: 075...\n",
      "Processing subject: 009 view: 075...\n",
      "Processing subject: 010 view: 075...\n",
      "Processing subject: 011 view: 075...\n",
      "Processing subject: 012 view: 075...\n",
      "Processing subject: 013 view: 075...\n",
      "Processing subject: 014 view: 075...\n",
      "Processing subject: 015 view: 075...\n",
      "Processing subject: 016 view: 075...\n",
      "PROCESSING VIEW: 090\n",
      "Processing subject: 000 view: 090...\n",
      "Processing subject: 001 view: 090...\n",
      "Processing subject: 002 view: 090...\n",
      "Processing subject: 003 view: 090...\n",
      "Processing subject: 004 view: 090...\n",
      "Processing subject: 005 view: 090...\n",
      "Processing subject: 006 view: 090...\n",
      "Processing subject: 007 view: 090...\n",
      "Processing subject: 008 view: 090...\n",
      "Processing subject: 009 view: 090...\n",
      "Processing subject: 010 view: 090...\n",
      "Processing subject: 011 view: 090...\n",
      "Processing subject: 012 view: 090...\n",
      "Processing subject: 013 view: 090...\n",
      "Processing subject: 014 view: 090...\n",
      "Processing subject: 015 view: 090...\n",
      "Processing subject: 016 view: 090...\n",
      "PROCESSING VIEW: 105\n",
      "Processing subject: 000 view: 105...\n",
      "Processing subject: 001 view: 105...\n",
      "Processing subject: 002 view: 105...\n",
      "Processing subject: 003 view: 105...\n",
      "Processing subject: 004 view: 105...\n",
      "Processing subject: 005 view: 105...\n",
      "Processing subject: 006 view: 105...\n",
      "Processing subject: 007 view: 105...\n",
      "Processing subject: 008 view: 105...\n",
      "Processing subject: 009 view: 105...\n",
      "Processing subject: 010 view: 105...\n",
      "Processing subject: 011 view: 105...\n",
      "Processing subject: 012 view: 105...\n",
      "Processing subject: 013 view: 105...\n",
      "Processing subject: 014 view: 105...\n",
      "Processing subject: 015 view: 105...\n",
      "Processing subject: 016 view: 105...\n",
      "PROCESSING VIEW: 120\n",
      "Processing subject: 000 view: 120...\n",
      "Processing subject: 001 view: 120...\n",
      "Processing subject: 002 view: 120...\n",
      "Processing subject: 003 view: 120...\n",
      "Processing subject: 004 view: 120...\n",
      "Processing subject: 005 view: 120...\n",
      "Processing subject: 006 view: 120...\n",
      "Processing subject: 007 view: 120...\n",
      "Processing subject: 008 view: 120...\n",
      "Processing subject: 009 view: 120...\n",
      "Processing subject: 010 view: 120...\n",
      "Processing subject: 011 view: 120...\n",
      "Processing subject: 012 view: 120...\n",
      "Processing subject: 013 view: 120...\n",
      "Processing subject: 014 view: 120...\n",
      "Processing subject: 015 view: 120...\n",
      "Processing subject: 016 view: 120...\n",
      "\r"
     ]
    }
   ],
   "source": [
    "from src.mask_extractor import MaskExtractor\n",
    "\n",
    "mask_extractor = MaskExtractor(\n",
    "    images_dir = '../Datasets/OakGait16/segmentation_frames/',\n",
    "    clips_directory = '/mnt/c/Users/chris/Documents/OAKGait16/clips/', #Where the clips are saved in your computer\n",
    "    mks_dir = 'masks/',\n",
    "    frs_dir = 'rgb/',\n",
    "    subjects = ['000', '001', '002', '003', '004', '005', '006', '007', '008', '009', '010', '011', '012', '013', '014', '015', '016'],\n",
    "    views = ['060', '075', '090', '105', '120'],\n",
    "    nclips = {'nm':5, 'bg':5, 'cl':5},\n",
    "    verbose = True,\n",
    ")\n",
    "\n",
    "mask_extractor.extract_masks()"
   ]
  },
  {
   "cell_type": "markdown",
   "metadata": {},
   "source": [
    "## Region of interest & Ground truth obtention"
   ]
  },
  {
   "cell_type": "code",
   "execution_count": 4,
   "metadata": {},
   "outputs": [],
   "source": [
    "from src.roi_finder import ROIFinder\n",
    "\n",
    "roi_finder = ROIFinder(model_path=\"../../models/public/mobilenet-ssd/FP32/mobilenet-ssd.xml\", device=\"CPU\")"
   ]
  },
  {
   "cell_type": "code",
   "execution_count": 12,
   "metadata": {},
   "outputs": [],
   "source": [
    "from src.segmentation_dataset_generator import SegmentationDatasetGenerator\n",
    "\n",
    "seg_ds_generator = SegmentationDatasetGenerator(\n",
    "    roi_finder = roi_finder,\n",
    "    images_dir = '../Datasets/OakGait16/segmentation_frames/',\n",
    "    frs_dir = 'rgb/',\n",
    "    mks_dir = 'masks/',\n",
    "    views = ['060', '075', '090', '105', '120'],\n",
    "    training_silhouettes = '../Datasets/segmentation_dataset/OakGait16/rgb_silhouettes/',\n",
    "    masked_silhouettes = '../Datasets/segmentation_dataset/OakGait16/masked_silhouettes/',\n",
    "    verbose = False,\n",
    ")\n",
    "\n",
    "seg_ds_generator.generate_dataset()"
   ]
  }
 ],
 "metadata": {
  "kernelspec": {
   "display_name": "Python 3.9.12 ('openvino')",
   "language": "python",
   "name": "python3"
  },
  "language_info": {
   "codemirror_mode": {
    "name": "ipython",
    "version": 3
   },
   "file_extension": ".py",
   "mimetype": "text/x-python",
   "name": "python",
   "nbconvert_exporter": "python",
   "pygments_lexer": "ipython3",
   "version": "3.10.12"
  },
  "orig_nbformat": 4,
  "vscode": {
   "interpreter": {
    "hash": "e29a5cb2b1ebb6a1291bd733c6cfecfe5f45aa900586811e87b0b788aff8bad7"
   }
  }
 },
 "nbformat": 4,
 "nbformat_minor": 2
}
