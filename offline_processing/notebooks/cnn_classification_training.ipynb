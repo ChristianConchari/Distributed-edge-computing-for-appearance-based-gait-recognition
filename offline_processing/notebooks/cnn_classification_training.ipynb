{
  "cells": [
    {
      "cell_type": "markdown",
      "metadata": {
        "id": "Ae0ig5nt_Lg3"
      },
      "source": [
        "# Offline classification model training"
      ]
    },
    {
      "cell_type": "markdown",
      "metadata": {
        "id": "BQec8rLPZ9rg"
      },
      "source": [
        "This notebook describe the CNN training for performing the gait representation (GEI) classification task. For replication purposes, is recommended to run this notebook on [Google Colab](https://colab.research.google.com/?hl=en) making use of the GPU runtime."
      ]
    },
    {
      "cell_type": "markdown",
      "metadata": {},
      "source": [
        "⚠️ When running this notebook, make sure you are using the same python version as the one used in the jetson nano device (3.6), where the model will be deployed. Also, make sure to install the same packages versions as the ones used in the jetson nano device. Otherwise, the model may not will be able to be accelerated and deployed in the Jetson Nano device."
      ]
    },
    {
      "cell_type": "code",
      "execution_count": 1,
      "metadata": {},
      "outputs": [
        {
          "name": "stdout",
          "output_type": "stream",
          "text": [
            "Python 3.6.13 :: Anaconda, Inc.\n"
          ]
        }
      ],
      "source": [
        "!python3 --version"
      ]
    },
    {
      "cell_type": "code",
      "execution_count": 2,
      "metadata": {},
      "outputs": [
        {
          "name": "stdout",
          "output_type": "stream",
          "text": [
            "Collecting tensorflow-gpu==2.4.1\n",
            "  Downloading tensorflow_gpu-2.4.1-cp36-cp36m-manylinux2010_x86_64.whl (394.3 MB)\n",
            "\u001b[K     |████████████████████████████████| 394.3 MB 49 kB/s  eta 0:00:01    |██████                          | 74.5 MB 105 kB/s eta 0:50:30     |███████▋                        | 94.4 MB 3.9 MB/s eta 0:01:17     |████████████████▎               | 200.3 MB 1.6 MB/s eta 0:01:59\n",
            "\u001b[?25hCollecting wrapt~=1.12.1\n",
            "  Downloading wrapt-1.12.1.tar.gz (27 kB)\n",
            "Collecting tensorboard~=2.4\n",
            "  Downloading tensorboard-2.10.1-py3-none-any.whl (5.9 MB)\n",
            "\u001b[K     |████████████████████████████████| 5.9 MB 4.9 MB/s eta 0:00:01\n",
            "\u001b[?25hCollecting tensorflow-estimator<2.5.0,>=2.4.0\n",
            "  Downloading tensorflow_estimator-2.4.0-py2.py3-none-any.whl (462 kB)\n",
            "\u001b[K     |████████████████████████████████| 462 kB 6.0 MB/s eta 0:00:01\n",
            "\u001b[?25hCollecting h5py~=2.10.0\n",
            "  Downloading h5py-2.10.0-cp36-cp36m-manylinux1_x86_64.whl (2.9 MB)\n",
            "\u001b[K     |████████████████████████████████| 2.9 MB 5.9 MB/s eta 0:00:01\n",
            "\u001b[?25hCollecting opt-einsum~=3.3.0\n",
            "  Downloading opt_einsum-3.3.0-py3-none-any.whl (65 kB)\n",
            "\u001b[K     |████████████████████████████████| 65 kB 3.0 MB/s eta 0:00:01\n",
            "\u001b[?25hCollecting keras-preprocessing~=1.1.2\n",
            "  Downloading Keras_Preprocessing-1.1.2-py2.py3-none-any.whl (42 kB)\n",
            "\u001b[K     |████████████████████████████████| 42 kB 1.1 MB/s eta 0:00:01\n",
            "\u001b[?25hCollecting six~=1.15.0\n",
            "  Downloading six-1.15.0-py2.py3-none-any.whl (10 kB)\n",
            "Collecting termcolor~=1.1.0\n",
            "  Downloading termcolor-1.1.0.tar.gz (3.9 kB)\n",
            "Requirement already satisfied: wheel~=0.35 in /home/chris/miniconda3/envs/py36_env/lib/python3.6/site-packages (from tensorflow-gpu==2.4.1) (0.37.1)\n",
            "Collecting gast==0.3.3\n",
            "  Downloading gast-0.3.3-py2.py3-none-any.whl (9.7 kB)\n",
            "Collecting astunparse~=1.6.3\n",
            "  Downloading astunparse-1.6.3-py2.py3-none-any.whl (12 kB)\n",
            "Collecting typing-extensions~=3.7.4\n",
            "  Downloading typing_extensions-3.7.4.3-py3-none-any.whl (22 kB)\n",
            "Collecting grpcio~=1.32.0\n",
            "  Downloading grpcio-1.32.0-cp36-cp36m-manylinux2014_x86_64.whl (3.8 MB)\n",
            "\u001b[K     |████████████████████████████████| 3.8 MB 1.9 MB/s eta 0:00:01\n",
            "\u001b[?25hCollecting absl-py~=0.10\n",
            "  Downloading absl_py-0.15.0-py3-none-any.whl (132 kB)\n",
            "\u001b[K     |████████████████████████████████| 132 kB 2.8 MB/s eta 0:00:01\n",
            "\u001b[?25hCollecting google-pasta~=0.2\n",
            "  Downloading google_pasta-0.2.0-py3-none-any.whl (57 kB)\n",
            "\u001b[K     |████████████████████████████████| 57 kB 2.7 MB/s eta 0:00:01\n",
            "\u001b[?25hCollecting protobuf>=3.9.2\n",
            "  Downloading protobuf-3.19.6-cp36-cp36m-manylinux_2_17_x86_64.manylinux2014_x86_64.whl (1.1 MB)\n",
            "\u001b[K     |████████████████████████████████| 1.1 MB 2.7 MB/s eta 0:00:01\n",
            "\u001b[?25hCollecting numpy~=1.19.2\n",
            "  Downloading numpy-1.19.5-cp36-cp36m-manylinux2010_x86_64.whl (14.8 MB)\n",
            "\u001b[K     |████████████████████████████████| 14.8 MB 5.0 MB/s eta 0:00:01\n",
            "\u001b[?25hCollecting flatbuffers~=1.12.0\n",
            "  Downloading flatbuffers-1.12-py2.py3-none-any.whl (15 kB)\n",
            "Requirement already satisfied: setuptools>=41.0.0 in /home/chris/miniconda3/envs/py36_env/lib/python3.6/site-packages (from tensorboard~=2.4->tensorflow-gpu==2.4.1) (58.0.4)\n",
            "Collecting werkzeug>=1.0.1\n",
            "  Downloading Werkzeug-2.0.3-py3-none-any.whl (289 kB)\n",
            "\u001b[K     |████████████████████████████████| 289 kB 6.3 MB/s eta 0:00:01\n",
            "\u001b[?25hCollecting tensorboard-plugin-wit>=1.6.0\n",
            "  Downloading tensorboard_plugin_wit-1.8.1-py3-none-any.whl (781 kB)\n",
            "\u001b[K     |████████████████████████████████| 781 kB 7.0 MB/s eta 0:00:01\n",
            "\u001b[?25hCollecting google-auth-oauthlib<0.5,>=0.4.1\n",
            "  Downloading google_auth_oauthlib-0.4.6-py2.py3-none-any.whl (18 kB)\n",
            "Collecting tensorboard-data-server<0.7.0,>=0.6.0\n",
            "  Downloading tensorboard_data_server-0.6.1-py3-none-manylinux2010_x86_64.whl (4.9 MB)\n",
            "\u001b[K     |████████████████████████████████| 4.9 MB 6.8 MB/s eta 0:00:01\n",
            "\u001b[?25hCollecting requests<3,>=2.21.0\n",
            "  Downloading requests-2.27.1-py2.py3-none-any.whl (63 kB)\n",
            "\u001b[K     |████████████████████████████████| 63 kB 1.6 MB/s eta 0:00:01\n",
            "\u001b[?25hCollecting google-auth<3,>=1.6.3\n",
            "  Downloading google_auth-2.22.0-py2.py3-none-any.whl (181 kB)\n",
            "\u001b[K     |████████████████████████████████| 181 kB 5.8 MB/s eta 0:00:01\n",
            "\u001b[?25hCollecting markdown>=2.6.8\n",
            "  Downloading Markdown-3.3.7-py3-none-any.whl (97 kB)\n",
            "\u001b[K     |████████████████████████████████| 97 kB 3.7 MB/s eta 0:00:01\n",
            "\u001b[?25hCollecting cachetools<6.0,>=2.0.0\n",
            "  Downloading cachetools-4.2.4-py3-none-any.whl (10 kB)\n",
            "Collecting urllib3<2.0\n",
            "  Downloading urllib3-1.26.18-py2.py3-none-any.whl (143 kB)\n",
            "\u001b[K     |████████████████████████████████| 143 kB 5.7 MB/s eta 0:00:01\n",
            "\u001b[?25hCollecting pyasn1-modules>=0.2.1\n",
            "  Downloading pyasn1_modules-0.3.0-py2.py3-none-any.whl (181 kB)\n",
            "\u001b[K     |████████████████████████████████| 181 kB 5.6 MB/s eta 0:00:01\n",
            "\u001b[?25hCollecting rsa<5,>=3.1.4\n",
            "  Downloading rsa-4.9-py3-none-any.whl (34 kB)\n",
            "Collecting requests-oauthlib>=0.7.0\n",
            "  Downloading requests_oauthlib-1.3.1-py2.py3-none-any.whl (23 kB)\n",
            "Collecting importlib-metadata>=4.4\n",
            "  Downloading importlib_metadata-4.8.3-py3-none-any.whl (17 kB)\n",
            "Collecting zipp>=0.5\n",
            "  Downloading zipp-3.6.0-py3-none-any.whl (5.3 kB)\n",
            "Collecting pyasn1<0.6.0,>=0.4.6\n",
            "  Downloading pyasn1-0.5.1-py2.py3-none-any.whl (84 kB)\n",
            "\u001b[K     |████████████████████████████████| 84 kB 2.7 MB/s eta 0:00:01\n",
            "\u001b[?25hCollecting charset-normalizer~=2.0.0\n",
            "  Downloading charset_normalizer-2.0.12-py3-none-any.whl (39 kB)\n",
            "Collecting idna<4,>=2.5\n",
            "  Using cached idna-3.6-py3-none-any.whl (61 kB)\n",
            "Requirement already satisfied: certifi>=2017.4.17 in /home/chris/miniconda3/envs/py36_env/lib/python3.6/site-packages (from requests<3,>=2.21.0->tensorboard~=2.4->tensorflow-gpu==2.4.1) (2021.5.30)\n",
            "Collecting oauthlib>=3.0.0\n",
            "  Downloading oauthlib-3.2.2-py3-none-any.whl (151 kB)\n",
            "\u001b[K     |████████████████████████████████| 151 kB 5.6 MB/s eta 0:00:01\n",
            "\u001b[?25hCollecting dataclasses\n",
            "  Downloading dataclasses-0.8-py3-none-any.whl (19 kB)\n",
            "Building wheels for collected packages: termcolor, wrapt\n",
            "  Building wheel for termcolor (setup.py) ... \u001b[?25ldone\n",
            "\u001b[?25h  Created wheel for termcolor: filename=termcolor-1.1.0-py3-none-any.whl size=4848 sha256=71149d1abeae5c24a92f3b83abe927fbd5d76936d19b925d086f50234710a878\n",
            "  Stored in directory: /home/chris/.cache/pip/wheels/93/2a/eb/e58dbcbc963549ee4f065ff80a59f274cc7210b6eab962acdc\n",
            "  Building wheel for wrapt (setup.py) ... \u001b[?25ldone\n",
            "\u001b[?25h  Created wheel for wrapt: filename=wrapt-1.12.1-py3-none-any.whl size=19572 sha256=7986a1193bf0fd4a0f7638c944a18c1c1986b4f80750bd78b19e9c46c6e75030\n",
            "  Stored in directory: /home/chris/.cache/pip/wheels/32/42/7f/23cae9ff6ef66798d00dc5d659088e57dbba01566f6c60db63\n",
            "Successfully built termcolor wrapt\n",
            "Installing collected packages: urllib3, pyasn1, idna, charset-normalizer, zipp, typing-extensions, six, rsa, requests, pyasn1-modules, oauthlib, cachetools, requests-oauthlib, importlib-metadata, google-auth, dataclasses, werkzeug, tensorboard-plugin-wit, tensorboard-data-server, protobuf, numpy, markdown, grpcio, google-auth-oauthlib, absl-py, wrapt, termcolor, tensorflow-estimator, tensorboard, opt-einsum, keras-preprocessing, h5py, google-pasta, gast, flatbuffers, astunparse, tensorflow-gpu\n",
            "  Attempting uninstall: six\n",
            "    Found existing installation: six 1.16.0\n",
            "    Uninstalling six-1.16.0:\n",
            "      Successfully uninstalled six-1.16.0\n",
            "Successfully installed absl-py-0.15.0 astunparse-1.6.3 cachetools-4.2.4 charset-normalizer-2.0.12 dataclasses-0.8 flatbuffers-1.12 gast-0.3.3 google-auth-2.22.0 google-auth-oauthlib-0.4.6 google-pasta-0.2.0 grpcio-1.32.0 h5py-2.10.0 idna-3.6 importlib-metadata-4.8.3 keras-preprocessing-1.1.2 markdown-3.3.7 numpy-1.19.5 oauthlib-3.2.2 opt-einsum-3.3.0 protobuf-3.19.6 pyasn1-0.5.1 pyasn1-modules-0.3.0 requests-2.27.1 requests-oauthlib-1.3.1 rsa-4.9 six-1.15.0 tensorboard-2.10.1 tensorboard-data-server-0.6.1 tensorboard-plugin-wit-1.8.1 tensorflow-estimator-2.4.0 tensorflow-gpu-2.4.1 termcolor-1.1.0 typing-extensions-3.7.4.3 urllib3-1.26.18 werkzeug-2.0.3 wrapt-1.12.1 zipp-3.6.0\n"
          ]
        }
      ],
      "source": [
        "!pip install tensorflow-gpu==2.4.1"
      ]
    },
    {
      "cell_type": "code",
      "execution_count": 2,
      "metadata": {},
      "outputs": [
        {
          "name": "stdout",
          "output_type": "stream",
          "text": [
            "2.4.1\n"
          ]
        }
      ],
      "source": [
        "import tensorflow as tf\n",
        "\n",
        "tensorflow_version = tf.__version__\n",
        "print(tensorflow_version)"
      ]
    },
    {
      "cell_type": "markdown",
      "metadata": {
        "id": "wc_qHsn6C-ZY"
      },
      "source": [
        "## Import libraries and pre-processing"
      ]
    },
    {
      "cell_type": "code",
      "execution_count": 1,
      "metadata": {
        "id": "mn8UZSUePGmc"
      },
      "outputs": [],
      "source": [
        "from tensorflow import keras\n",
        "from tensorflow.keras import regularizers\n",
        "import numpy as np\n",
        "import matplotlib.pyplot as plt\n",
        "from tensorflow.python.saved_model import tag_constants\n",
        "from tensorflow.keras.preprocessing.image import ImageDataGenerator"
      ]
    },
    {
      "cell_type": "code",
      "execution_count": 3,
      "metadata": {
        "id": "yjMdsP-noy_W"
      },
      "outputs": [],
      "source": [
        "datagenerator = ImageDataGenerator(rescale = 1/255.,\n",
        "                                   width_shift_range=0.01, # horizontal shift\n",
        "                                   horizontal_flip=True, # horizontal flip\n",
        "                                   validation_split=0.2) "
      ]
    },
    {
      "cell_type": "code",
      "execution_count": 4,
      "metadata": {
        "colab": {
          "base_uri": "https://localhost:8080/"
        },
        "id": "WjycJN8FSvWp",
        "outputId": "9dbdb72c-c673-4997-d260-d39964a04ee5"
      },
      "outputs": [
        {
          "name": "stdout",
          "output_type": "stream",
          "text": [
            "Found 3345 images belonging to 16 classes.\n",
            "Found 828 images belonging to 16 classes.\n"
          ]
        }
      ],
      "source": [
        "training_data = '../../Datasets/OakGait16/representations_training_dataset'\n",
        "\n",
        "\n",
        "img_height = 220\n",
        "img_width = 220\n",
        "batch_size = 4\n",
        "\n",
        "train_ds = datagenerator.flow_from_directory(\n",
        "    training_data,\n",
        "    color_mode='grayscale',\n",
        "    class_mode = \"categorical\",\n",
        "    target_size=(img_height, img_width),\n",
        "    batch_size=batch_size,\n",
        "    subset = \"training\"\n",
        ")\n",
        "\n",
        "val_ds = datagenerator.flow_from_directory(\n",
        "    training_data,\n",
        "    target_size=(img_height, img_width),\n",
        "    batch_size=batch_size,\n",
        "    color_mode='grayscale',\n",
        "    class_mode = \"categorical\",\n",
        "    subset = \"validation\"\n",
        ")"
      ]
    },
    {
      "cell_type": "code",
      "execution_count": 5,
      "metadata": {
        "colab": {
          "base_uri": "https://localhost:8080/"
        },
        "id": "vnFcTx3hJPg4",
        "outputId": "b36e1135-320d-4f70-8d95-592eb872f7c8"
      },
      "outputs": [
        {
          "name": "stdout",
          "output_type": "stream",
          "text": [
            "['000', '001', '002', '003', '004', '005', '007', '008', '009', '010', '011', '012', '013', '014', '015', '016']\n"
          ]
        }
      ],
      "source": [
        "classes = ['000','001','002','003','004','005','007','008','009','010','011','012','013','014','015','016']\n",
        "print(classes)"
      ]
    },
    {
      "cell_type": "code",
      "execution_count": 6,
      "metadata": {
        "id": "pOsK1GrnJZid"
      },
      "outputs": [],
      "source": [
        "def plotImages(images_arr):\n",
        "  fig, axes = plt.subplots(1, 4, figsize = (10, 10))\n",
        "  axes = axes.flatten()\n",
        "  for img, ax in zip(images_arr, axes):\n",
        "    ax.imshow(img[:,:,0], cmap='gray')\n",
        "    ax.axis(\"off\")\n",
        "  plt.tight_layout()\n",
        "  plt.show()"
      ]
    },
    {
      "cell_type": "code",
      "execution_count": 7,
      "metadata": {
        "colab": {
          "base_uri": "https://localhost:8080/",
          "height": 214
        },
        "id": "c1n-CNaGJbfl",
        "outputId": "1a8d6f36-2189-48e0-8573-45427e47e908"
      },
      "outputs": [
        {
          "name": "stdout",
          "output_type": "stream",
          "text": [
            "(4, 220, 220, 1)\n"
          ]
        },
        {
          "data": {
            "image/png": "[encoded data removed]",
            "text/plain": [
              "<Figure size 720x720 with 4 Axes>"
            ]
          },
          "metadata": {
            "needs_background": "light"
          },
          "output_type": "display_data"
        }
      ],
      "source": [
        "sample_training_images, _= next(iter(train_ds))\n",
        "print(sample_training_images.shape)\n",
        "plotImages(sample_training_images[:4])"
      ]
    },
    {
      "cell_type": "markdown",
      "metadata": {
        "id": "sRWyK4daC6Ri"
      },
      "source": [
        "## CNN model definition and training"
      ]
    },
    {
      "cell_type": "code",
      "execution_count": 8,
      "metadata": {
        "colab": {
          "base_uri": "https://localhost:8080/"
        },
        "id": "4tI4FLrbJxRS",
        "outputId": "179918d9-065a-4c57-b176-35c27fd3da87"
      },
      "outputs": [
        {
          "name": "stdout",
          "output_type": "stream",
          "text": [
            "Model: \"sequential\"\n",
            "_________________________________________________________________\n",
            "Layer (type)                 Output Shape              Param #   \n",
            "=================================================================\n",
            "conv2d (Conv2D)              (None, 220, 220, 16)      160       \n",
            "_________________________________________________________________\n",
            "activation (Activation)      (None, 220, 220, 16)      0         \n",
            "_________________________________________________________________\n",
            "max_pooling2d (MaxPooling2D) (None, 110, 110, 16)      0         \n",
            "_________________________________________________________________\n",
            "conv2d_1 (Conv2D)            (None, 110, 110, 32)      4640      \n",
            "_________________________________________________________________\n",
            "activation_1 (Activation)    (None, 110, 110, 32)      0         \n",
            "_________________________________________________________________\n",
            "max_pooling2d_1 (MaxPooling2 (None, 55, 55, 32)        0         \n",
            "_________________________________________________________________\n",
            "conv2d_2 (Conv2D)            (None, 55, 55, 64)        18496     \n",
            "_________________________________________________________________\n",
            "activation_2 (Activation)    (None, 55, 55, 64)        0         \n",
            "_________________________________________________________________\n",
            "max_pooling2d_2 (MaxPooling2 (None, 27, 27, 64)        0         \n",
            "_________________________________________________________________\n",
            "conv2d_3 (Conv2D)            (None, 27, 27, 64)        36928     \n",
            "_________________________________________________________________\n",
            "activation_3 (Activation)    (None, 27, 27, 64)        0         \n",
            "_________________________________________________________________\n",
            "max_pooling2d_3 (MaxPooling2 (None, 13, 13, 64)        0         \n",
            "_________________________________________________________________\n",
            "conv2d_4 (Conv2D)            (None, 13, 13, 128)       73856     \n",
            "_________________________________________________________________\n",
            "activation_4 (Activation)    (None, 13, 13, 128)       0         \n",
            "_________________________________________________________________\n",
            "max_pooling2d_4 (MaxPooling2 (None, 6, 6, 128)         0         \n",
            "_________________________________________________________________\n",
            "flatten (Flatten)            (None, 4608)              0         \n",
            "_________________________________________________________________\n",
            "dense (Dense)                (None, 75)                345675    \n",
            "_________________________________________________________________\n",
            "activation_5 (Activation)    (None, 75)                0         \n",
            "_________________________________________________________________\n",
            "dropout (Dropout)            (None, 75)                0         \n",
            "_________________________________________________________________\n",
            "dense_1 (Dense)              (None, 16)                1216      \n",
            "=================================================================\n",
            "Total params: 480,971\n",
            "Trainable params: 480,971\n",
            "Non-trainable params: 0\n",
            "_________________________________________________________________\n"
          ]
        }
      ],
      "source": [
        "model_cnn = keras.models.Sequential()\n",
        "\n",
        "model_cnn.add(keras.layers.Conv2D(16, (3,3), padding='same'))\n",
        "model_cnn.add(keras.layers.Activation(keras.layers.LeakyReLU()))\n",
        "model_cnn.add(keras.layers.MaxPooling2D((2,2)))\n",
        "\n",
        "model_cnn.add(keras.layers.Conv2D(32, (3,3), padding='same'))\n",
        "model_cnn.add(keras.layers.Activation(keras.layers.LeakyReLU()))\n",
        "model_cnn.add(keras.layers.MaxPooling2D((2,2)))\n",
        "\n",
        "model_cnn.add(keras.layers.Conv2D(64, (3,3), padding='same'))\n",
        "model_cnn.add(keras.layers.Activation(keras.layers.LeakyReLU()))\n",
        "model_cnn.add(keras.layers.MaxPooling2D((2,2)))\n",
        "\n",
        "model_cnn.add(keras.layers.Conv2D(64, (3,3), padding='same', kernel_regularizer= regularizers.l2(1e-3)))\n",
        "model_cnn.add(keras.layers.Activation(keras.layers.LeakyReLU()))\n",
        "model_cnn.add(keras.layers.MaxPooling2D((2,2)))\n",
        "\n",
        "model_cnn.add(keras.layers.Conv2D(128, (3,3), padding='same', kernel_regularizer= regularizers.l2(1e-3)))\n",
        "model_cnn.add(keras.layers.Activation(keras.layers.LeakyReLU()))\n",
        "model_cnn.add(keras.layers.MaxPooling2D((2,2)))\n",
        "\n",
        "\n",
        "model_cnn.add(keras.layers.Flatten())\n",
        "model_cnn.add(keras.layers.Dense(75, kernel_regularizer= regularizers.l2(1e-3)))\n",
        "model_cnn.add(keras.layers.Activation(keras.layers.LeakyReLU()))\n",
        "model_cnn.add(keras.layers.Dropout(0.50))\n",
        "model_cnn.add(keras.layers.Dense(len(classes), activation = \"softmax\"))\n",
        "\n",
        "model_cnn.build((None, 220, 220, 1))\n",
        "model_cnn.summary()"
      ]
    },
    {
      "cell_type": "code",
      "execution_count": 9,
      "metadata": {
        "colab": {
          "base_uri": "https://localhost:8080/",
          "height": 1000
        },
        "id": "wNV_9mOPJFj0",
        "outputId": "e6bed29e-b17c-4b0b-d273-80ceb4440864"
      },
      "outputs": [
        {
          "name": "stdout",
          "output_type": "stream",
          "text": [
            "('Failed to import pydot. You must `pip install pydot` and install graphviz (https://graphviz.gitlab.io/download/), ', 'for `pydotprint` to work.')\n"
          ]
        }
      ],
      "source": [
        "keras.utils.plot_model(model_cnn, show_shapes=True)"
      ]
    },
    {
      "cell_type": "code",
      "execution_count": 10,
      "metadata": {
        "id": "9SSDhADLaaJs"
      },
      "outputs": [],
      "source": [
        "from tensorflow.keras.callbacks import Callback\n",
        "\n",
        "class TrainingCallback(Callback):\n",
        "  def on_epoch_end(self, epoch, logs = {}):\n",
        "    if logs.get(\"val_accuracy\") > 0.93:\n",
        "      print(\"Achieved\")\n",
        "      self.model.stop_training = True"
      ]
    },
    {
      "cell_type": "code",
      "execution_count": 11,
      "metadata": {
        "colab": {
          "base_uri": "https://localhost:8080/"
        },
        "id": "nRpnmDxrKbGz",
        "outputId": "e9d01e17-4031-4b63-e0dd-e6508d57c38f"
      },
      "outputs": [
        {
          "name": "stdout",
          "output_type": "stream",
          "text": [
            "Epoch 1/25\n",
            "836/836 [==============================] - 90s 106ms/step - loss: 3.0035 - accuracy: 0.0668 - val_loss: 2.8423 - val_accuracy: 0.1123\n",
            "Epoch 2/25\n",
            "836/836 [==============================] - 82s 98ms/step - loss: 2.7226 - accuracy: 0.1652 - val_loss: 2.0808 - val_accuracy: 0.3454\n",
            "Epoch 3/25\n",
            "836/836 [==============================] - 82s 98ms/step - loss: 2.0054 - accuracy: 0.4132 - val_loss: 1.5150 - val_accuracy: 0.5942\n",
            "Epoch 4/25\n",
            "836/836 [==============================] - 84s 101ms/step - loss: 1.4185 - accuracy: 0.6103 - val_loss: 1.1968 - val_accuracy: 0.6944\n",
            "Epoch 5/25\n",
            "836/836 [==============================] - 96s 114ms/step - loss: 1.1493 - accuracy: 0.7047 - val_loss: 1.0989 - val_accuracy: 0.7319\n",
            "Epoch 6/25\n",
            "836/836 [==============================] - 110s 131ms/step - loss: 0.9130 - accuracy: 0.7801 - val_loss: 0.9475 - val_accuracy: 0.7621\n",
            "Epoch 7/25\n",
            "836/836 [==============================] - 105s 126ms/step - loss: 0.7709 - accuracy: 0.8177 - val_loss: 1.0121 - val_accuracy: 0.7114\n",
            "Epoch 8/25\n",
            "836/836 [==============================] - 104s 124ms/step - loss: 0.7131 - accuracy: 0.8310 - val_loss: 0.8383 - val_accuracy: 0.7790\n",
            "Epoch 9/25\n",
            "836/836 [==============================] - 105s 125ms/step - loss: 0.6533 - accuracy: 0.8634 - val_loss: 0.7951 - val_accuracy: 0.8068\n",
            "Epoch 10/25\n",
            "836/836 [==============================] - 103s 123ms/step - loss: 0.6169 - accuracy: 0.8707 - val_loss: 0.9120 - val_accuracy: 0.7802\n",
            "Epoch 11/25\n",
            "836/836 [==============================] - 81s 97ms/step - loss: 0.5498 - accuracy: 0.8819 - val_loss: 0.8226 - val_accuracy: 0.8116\n",
            "Epoch 12/25\n",
            "836/836 [==============================] - 81s 97ms/step - loss: 0.5138 - accuracy: 0.9052 - val_loss: 0.8167 - val_accuracy: 0.8104\n",
            "Epoch 13/25\n",
            "836/836 [==============================] - 83s 100ms/step - loss: 0.4714 - accuracy: 0.9112 - val_loss: 0.6952 - val_accuracy: 0.8551\n",
            "Epoch 14/25\n",
            "836/836 [==============================] - 100s 119ms/step - loss: 0.4528 - accuracy: 0.9153 - val_loss: 0.7514 - val_accuracy: 0.8297\n",
            "Epoch 15/25\n",
            "836/836 [==============================] - 93s 111ms/step - loss: 0.4551 - accuracy: 0.9094 - val_loss: 0.7469 - val_accuracy: 0.8418\n",
            "Epoch 16/25\n",
            "836/836 [==============================] - 105s 125ms/step - loss: 0.4043 - accuracy: 0.9331 - val_loss: 0.7304 - val_accuracy: 0.8575\n",
            "Epoch 17/25\n",
            "836/836 [==============================] - 105s 126ms/step - loss: 0.4161 - accuracy: 0.9242 - val_loss: 0.6477 - val_accuracy: 0.8671\n",
            "Epoch 18/25\n",
            "836/836 [==============================] - 93s 111ms/step - loss: 0.3877 - accuracy: 0.9333 - val_loss: 0.8453 - val_accuracy: 0.8176\n",
            "Epoch 19/25\n",
            "836/836 [==============================] - 93s 111ms/step - loss: 0.3614 - accuracy: 0.9342 - val_loss: 0.6943 - val_accuracy: 0.8647\n",
            "Epoch 20/25\n",
            "836/836 [==============================] - 92s 110ms/step - loss: 0.3758 - accuracy: 0.9363 - val_loss: 0.8450 - val_accuracy: 0.8237\n",
            "Epoch 21/25\n",
            "836/836 [==============================] - 90s 108ms/step - loss: 0.3868 - accuracy: 0.9406 - val_loss: 0.6951 - val_accuracy: 0.8611\n",
            "Epoch 22/25\n",
            "836/836 [==============================] - 82s 98ms/step - loss: 0.3442 - accuracy: 0.9424 - val_loss: 0.6700 - val_accuracy: 0.8684\n",
            "Epoch 23/25\n",
            "836/836 [==============================] - 99s 119ms/step - loss: 0.3218 - accuracy: 0.9519 - val_loss: 0.7026 - val_accuracy: 0.8502\n",
            "Epoch 24/25\n",
            "836/836 [==============================] - 85s 102ms/step - loss: 0.3421 - accuracy: 0.9541 - val_loss: 0.7029 - val_accuracy: 0.8502\n",
            "Epoch 25/25\n",
            "836/836 [==============================] - 84s 101ms/step - loss: 0.3186 - accuracy: 0.9503 - val_loss: 0.6549 - val_accuracy: 0.8732\n"
          ]
        }
      ],
      "source": [
        "epochs = 25\n",
        "optimizer = keras.optimizers.SGD(\n",
        "    learning_rate=0.0001, momentum=0.9,  decay=1e-6, nesterov=True, name=\"SGD\")\n",
        "\n",
        "optimizer = keras.optimizers.Adam(\n",
        "    learning_rate=0.0001,\n",
        "    beta_1=0.9,\n",
        "    beta_2=0.999,\n",
        "    epsilon=1e-07,\n",
        "    amsgrad=False,\n",
        "    name=\"Adam\",\n",
        ")\n",
        "\n",
        "callback = TrainingCallback()\n",
        "\n",
        "\n",
        "model_cnn.compile(optimizer=optimizer, loss = \"categorical_crossentropy\", metrics = [\"accuracy\"])\n",
        "training_samples = train_ds.n\n",
        "val_samples = val_ds.n\n",
        "history_cnn = model_cnn.fit(\n",
        "    train_ds,\n",
        "    steps_per_epoch=training_samples // batch_size,\n",
        "    epochs = epochs,\n",
        "    callbacks = [callback],\n",
        "    validation_data=val_ds,\n",
        "    validation_steps=val_samples // batch_size,\n",
        ")"
      ]
    },
    {
      "cell_type": "code",
      "execution_count": 14,
      "metadata": {
        "id": "PpyGClt5OdcK"
      },
      "outputs": [],
      "source": [
        "def visualizacion_resultados(history):\n",
        "  nepochs = [i for i in range(25)]\n",
        "  fig, ax = plt.subplots(1,2)\n",
        "  train_acc = history.history[\"accuracy\"]\n",
        "  train_loss = history.history[\"loss\"]\n",
        "  val_acc = history.history[\"val_accuracy\"]\n",
        "  val_loss = history.history[\"val_loss\"]\n",
        "  fig.set_size_inches(16, 9)\n",
        "\n",
        "  ax[0].plot(nepochs, train_acc, \"-\", label =\" Training accuracy\")\n",
        "  ax[0].plot(nepochs, val_acc, \"-\", label= \"Validation accuracy\")\n",
        "  ax[0].set_title(\"Training & validation accuracy\")\n",
        "  ax[0].legend()\n",
        "  ax[0].set_xlabel(\"nEpochs\")\n",
        "  ax[0].set_ylabel(\"Accuracy\")\n",
        "\n",
        "  ax[1].plot(nepochs, train_loss, \"-\", label =\" Training Loss\")\n",
        "  ax[1].plot(nepochs, val_loss, \"-\", label= \"Validation Loss\")\n",
        "  ax[1].set_title(\"Training & validation Loss\")\n",
        "  ax[1].legend()\n",
        "  ax[1].set_xlabel(\"Epochs\")\n",
        "  ax[1].set_ylabel(\"Loss\")\n",
        "\n",
        "  plt.show()"
      ]
    },
    {
      "cell_type": "code",
      "execution_count": 15,
      "metadata": {
        "colab": {
          "base_uri": "https://localhost:8080/",
          "height": 567
        },
        "id": "I0Lty8pdPIuV",
        "outputId": "a375c42a-bd4a-49c3-f648-94a73a30ecea"
      },
      "outputs": [
        {
          "data": {
            "image/png": "[encoded data removed]",
            "text/plain": [
              "<Figure size 1152x648 with 2 Axes>"
            ]
          },
          "metadata": {
            "needs_background": "light"
          },
          "output_type": "display_data"
        }
      ],
      "source": [
        "visualizacion_resultados(history_cnn)"
      ]
    },
    {
      "cell_type": "code",
      "execution_count": 21,
      "metadata": {
        "colab": {
          "base_uri": "https://localhost:8080/",
          "height": 460
        },
        "id": "XeHS-2QRxV_1",
        "outputId": "758d5c01-4c69-4acb-8cf3-ebc9c15f61a8"
      },
      "outputs": [
        {
          "name": "stdout",
          "output_type": "stream",
          "text": [
            "              precision    recall  f1-score   support\n",
            "\n",
            "           3       1.00      1.00      1.00         1\n",
            "           9       1.00      1.00      1.00         1\n",
            "          10       1.00      1.00      1.00         1\n",
            "          12       1.00      1.00      1.00         1\n",
            "\n",
            "    accuracy                           1.00         4\n",
            "   macro avg       1.00      1.00      1.00         4\n",
            "weighted avg       1.00      1.00      1.00         4\n",
            "\n"
          ]
        },
        {
          "data": {
            "image/png": "[encoded data removed]",
            "text/plain": [
              "<Figure size 432x288 with 2 Axes>"
            ]
          },
          "metadata": {
            "needs_background": "light"
          },
          "output_type": "display_data"
        }
      ],
      "source": [
        "from sklearn.metrics import ConfusionMatrixDisplay\n",
        "import tensorflow as tf\n",
        "import seaborn as sns\n",
        "import sklearn.metrics as metrics\n",
        "\n",
        "test_batch = []\n",
        "for data in next(val_ds):\n",
        "  test_batch.append(data)\n",
        "\n",
        "image_batch = test_batch[0]\n",
        "label_batch = test_batch[1] \n",
        "\n",
        "predictions = np.argmax(model_cnn.predict(image_batch), axis=1)\n",
        "label_batch = np.argmax(label_batch, axis=1)\n",
        "cf_matrix = tf.math.confusion_matrix(label_batch, predictions)\n",
        "sns.heatmap(cf_matrix, annot=True)\n",
        "f1_score = metrics.classification_report(label_batch, predictions)\n",
        "print(f1_score)"
      ]
    },
    {
      "cell_type": "code",
      "execution_count": 22,
      "metadata": {},
      "outputs": [],
      "source": [
        "model_acc = round(history_cnn.history['accuracy'][-1], 4)\n",
        "model_loss = round(history_cnn.history['loss'][-1], 4)\n",
        "model_val_acc = round(history_cnn.history['val_accuracy'][-1], 4)\n",
        "model_val_loss = round(history_cnn.history['val_loss'][-1], 4)\n",
        "\n",
        "model_cnn_path = f\"cnn_gait_recognition_acc_{model_acc}_loss_{model_loss}_val_acc_{model_val_acc}_loss_acc_{model_val_loss}\""
      ]
    },
    {
      "cell_type": "code",
      "execution_count": 23,
      "metadata": {
        "id": "QxAN6Y-aPQGc"
      },
      "outputs": [
        {
          "name": "stderr",
          "output_type": "stream",
          "text": [
            "WARNING:absl:Found untraced functions such as leaky_re_lu_layer_call_and_return_conditional_losses, leaky_re_lu_layer_call_fn, leaky_re_lu_1_layer_call_and_return_conditional_losses, leaky_re_lu_1_layer_call_fn, leaky_re_lu_2_layer_call_and_return_conditional_losses while saving (showing 5 of 30). These functions will not be directly callable after loading.\n",
            "WARNING:absl:Found untraced functions such as leaky_re_lu_layer_call_and_return_conditional_losses, leaky_re_lu_layer_call_fn, leaky_re_lu_1_layer_call_and_return_conditional_losses, leaky_re_lu_1_layer_call_fn, leaky_re_lu_2_layer_call_and_return_conditional_losses while saving (showing 5 of 30). These functions will not be directly callable after loading.\n"
          ]
        },
        {
          "name": "stdout",
          "output_type": "stream",
          "text": [
            "INFO:tensorflow:Assets written to: cnn_gait_recognition_acc_0.9497_loss_0.3227_val_acc_0.8732_loss_acc_0.6549/assets\n"
          ]
        },
        {
          "name": "stderr",
          "output_type": "stream",
          "text": [
            "INFO:tensorflow:Assets written to: cnn_gait_recognition_acc_0.9497_loss_0.3227_val_acc_0.8732_loss_acc_0.6549/assets\n"
          ]
        }
      ],
      "source": [
        "model_cnn.save(model_cnn_path)"
      ]
    },
    {
      "cell_type": "code",
      "execution_count": 24,
      "metadata": {},
      "outputs": [
        {
          "name": "stdout",
          "output_type": "stream",
          "text": [
            "  adding: cnn_gait_recognition_acc_0.9497_loss_0.3227_val_acc_0.8732_loss_acc_0.6549/ (stored 0%)\n",
            "  adding: cnn_gait_recognition_acc_0.9497_loss_0.3227_val_acc_0.8732_loss_acc_0.6549/variables/ (stored 0%)\n",
            "  adding: cnn_gait_recognition_acc_0.9497_loss_0.3227_val_acc_0.8732_loss_acc_0.6549/variables/variables.index (deflated 68%)\n",
            "  adding: cnn_gait_recognition_acc_0.9497_loss_0.3227_val_acc_0.8732_loss_acc_0.6549/variables/variables.data-00000-of-00001 (deflated 8%)\n",
            "  adding: cnn_gait_recognition_acc_0.9497_loss_0.3227_val_acc_0.8732_loss_acc_0.6549/assets/ (stored 0%)\n",
            "  adding: cnn_gait_recognition_acc_0.9497_loss_0.3227_val_acc_0.8732_loss_acc_0.6549/saved_model.pb (deflated 90%)\n"
          ]
        }
      ],
      "source": [
        "!zip -r \"{model_cnn_path}.zip\" \"{model_cnn_path}\""
      ]
    }
  ],
  "metadata": {
    "accelerator": "GPU",
    "colab": {
      "collapsed_sections": [],
      "provenance": []
    },
    "gpuClass": "standard",
    "kernelspec": {
      "display_name": "Python 3.9.12 ('openvino')",
      "language": "python",
      "name": "python3"
    },
    "language_info": {
      "codemirror_mode": {
        "name": "ipython",
        "version": 3
      },
      "file_extension": ".py",
      "mimetype": "text/x-python",
      "name": "python",
      "nbconvert_exporter": "python",
      "pygments_lexer": "ipython3",
      "version": "3.6.13"
    },
    "vscode": {
      "interpreter": {
        "hash": "e29a5cb2b1ebb6a1291bd733c6cfecfe5f45aa900586811e87b0b788aff8bad7"
      }
    }
  },
  "nbformat": 4,
  "nbformat_minor": 0
}
